{
 "cells": [
  {
   "cell_type": "markdown",
   "metadata": {},
   "source": [
    "# Classification with hyperparameter tuning\n",
    "\n",
    "### Aim: Show classification with different strategies for the tuning and evaluation of the classifier\n",
    "1. simple __holdout__\n",
    "1. __cross validation__ on training set, then score on test set\n",
    "\n",
    "__NB__: it should not interpret those experiments as a way to find the _best_ evaluation method, but simply as examples of _how_ to do the evaluation. \n",
    "\n",
    " both methods are meant for increasing evaluation reliability, method __2__ is the more reliable, but it requires several repetitions for cross validation, therefore, if the learning method is expensive, it requires long processing time. If, due to intrinsic variation caused by random sampling, it turns out that method __1__ gives higher accuracy, this means simply that the forecast towards generalisation is less reliable.    \n",
    "\n",
    "### Workflow\n",
    "- download the data\n",
    "- drop the useless data\n",
    "- separe the predicting attributes X from the class attribute y\n",
    "- split X and y into training and test"
   ]
  },
  {
   "cell_type": "markdown",
   "metadata": {},
   "source": [
    "The data are  `winequality-red.csv`"
   ]
  },
  {
   "cell_type": "code",
   "execution_count": 1,
   "metadata": {},
   "outputs": [],
   "source": [
    "import pandas as pd\n",
    "import numpy as np\n",
    "import matplotlib.pyplot as plt\n",
    "import seaborn as sns\n",
    "from sklearn import tree\n",
    "from sklearn.metrics import accuracy_score, classification_report, confusion_matrix\n",
    "from sklearn.model_selection import cross_val_score\n",
    "from sklearn.ensemble import BaggingClassifier\n",
    "\n",
    "%matplotlib inline\n",
    "plt.rcParams['figure.figsize'] = [20, 20]\n",
    "random_state = 15\n",
    "np.random.seed(random_state)\n",
    "# the random state is reset here in numpy, all the scikit-learn procedure use the numpy random state\n",
    "# obviously the experiment can be repeated exactly only with a complete run of the program\n",
    "\n",
    "data_url = \"winequality-red.csv\"\n",
    "target_name = 'quality'"
   ]
  }
 ],
 "metadata": {
  "kernelspec": {
   "display_name": "gpu_env",
   "language": "python",
   "name": "python3"
  },
  "language_info": {
   "codemirror_mode": {
    "name": "ipython",
    "version": 3
   },
   "file_extension": ".py",
   "mimetype": "text/x-python",
   "name": "python",
   "nbconvert_exporter": "python",
   "pygments_lexer": "ipython3",
   "version": "3.9.19"
  }
 },
 "nbformat": 4,
 "nbformat_minor": 2
}
